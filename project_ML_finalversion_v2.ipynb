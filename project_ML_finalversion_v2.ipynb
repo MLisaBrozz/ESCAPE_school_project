{
 "cells": [
  {
   "attachments": {},
   "cell_type": "markdown",
   "metadata": {},
   "source": [
    "# Multi-messenger astronomy in the context of the VO framework.\n",
    "\n",
    "### Partecipant project for the [second ESCAPE Virtual Observatory School](https://indico.in2p3.fr/event/25225/): a practical example using  the Multi Order Coverage maps in Python.\n",
    "##### Maria Lisa Brozzetti; marialisa.brozzetti@studenti.unipg.it\n",
    "##### Updated by Gianmarco Aristei and Andrea Svizzeretto (gianmarco.aristei@studenti.unipg.it; andrea.svizzeretto@studenti.unipg.it)"
   ]
  },
  {
   "attachments": {},
   "cell_type": "markdown",
   "metadata": {},
   "source": [
    "The tutorial aims to analyze the [first multi-messenger event, GW170817/GRB170817/AT2017gfo](https://www.ligo.org/science/Publication-GW170817MMA/index.php) using the Multi Order Coverage map (MOC) to encode the gravitational-wave sky localizations from the LIGO and Virgo collaborations, and the gamma-ray-burst error boxes provided by the GBM instrument on board the Fermi Gamma-Ray Space Telescope and calculate from the IPN triangulation using the delay between Fermi and INTEGRAL. "
   ]
  },
  {
   "cell_type": "code",
   "execution_count": null,
   "metadata": {},
   "outputs": [],
   "source": [
    "!pip3 install mocpy"
   ]
  },
  {
   "cell_type": "code",
   "execution_count": null,
   "metadata": {},
   "outputs": [],
   "source": [
    "!pip3 install astropy"
   ]
  },
  {
   "cell_type": "code",
   "execution_count": null,
   "metadata": {},
   "outputs": [],
   "source": [
    "!pip3 install healpy"
   ]
  },
  {
   "cell_type": "code",
   "execution_count": null,
   "metadata": {},
   "outputs": [],
   "source": [
    "!pip3 install ipyaladin"
   ]
  },
  {
   "cell_type": "code",
   "execution_count": null,
   "metadata": {},
   "outputs": [],
   "source": [
    "#!conda install -c conda-forge ligo.skymap"
   ]
  },
  {
   "cell_type": "code",
   "execution_count": null,
   "metadata": {},
   "outputs": [],
   "source": [
    "import matplotlib.pyplot as plt\n",
    "\n",
    "import mocpy\n",
    "from mocpy import MOC, STMOC, WCS\n",
    "\n",
    "import astropy\n",
    "from astropy.coordinates import SkyCoord, Angle, Longitude, Latitude\n",
    "\n",
    "from astropy.time import Time\n",
    "import astropy.units as u\n",
    "\n",
    "import healpy as hp"
   ]
  },
  {
   "attachments": {},
   "cell_type": "markdown",
   "metadata": {},
   "source": [
    "## 1. Encoding of 2D credible regions in a MOC map\n"
   ]
  },
  {
   "attachments": {},
   "cell_type": "markdown",
   "metadata": {},
   "source": [
    "## 1.1 Download the sky maps\n"
   ]
  },
  {
   "cell_type": "code",
   "execution_count": null,
   "metadata": {},
   "outputs": [],
   "source": [
    "# Initial sky localization with the two LIGO interferometers (L1+H1).\n",
    "!curl -O https://dcc.ligo.org/public/0146/G1701985/001/bayestar_no_virgo.fits.gz\n",
    "\n",
    "# Initial sky localization with the two LIGO + Virgo (L1+H1+V1).\n",
    "!curl -O https://dcc.ligo.org/public/0146/G1701985/001/bayestar.fits.gz\n",
    "    \n",
    "# Final sky localization published in the (GWTC-1).\n",
    "!curl -O https://dcc.ligo.org/public/0157/P1800381/007/GW170817_skymap.fits.gz\n",
    "    \n",
    "### Fermi/GBM localization of GRB 170817A\n",
    "!curl -O https://gammaray.nsstc.nasa.gov/gbm/science/grbs/grb170817a/gbuts_healpix_systematic.fit  "
   ]
  },
  {
   "attachments": {},
   "cell_type": "markdown",
   "metadata": {},
   "source": [
    "## 1.2 Create credible regions encoded with MOC"
   ]
  },
  {
   "attachments": {},
   "cell_type": "markdown",
   "metadata": {},
   "source": [
    "From [ligo.skymap](https://lscsoft.docs.ligo.org/ligo.skymap/), it is possible to invoke the command-line [ligo-skymap-contour-moc](https://lscsoft.docs.ligo.org/ligo.skymap/tool/ligo_skymap_contour_moc.html). The method returns a credible level encoded in a MOC data structure of an all-sky probability map in FITS format. The method is based on [mocpy](https://cds-astro.github.io/mocpy/). \n",
    "\n",
    "Recently, the [mocpy version 0.10.0](https://cds-astro.github.io/mocpy/) builds the credibility regions with an algorithm that has various options, including one which produces the same results as\n",
    "Aladin Desktop (see a tutorial [here](https://indico.in2p3.fr/event/25225/sessions/15780/attachments/69008/97180/MMA_Aladin_v1a_comp.pdf)), and others that allow for different handling of the\n",
    "region boundaries. The method is [from_multiordermap_fits_file](https://cds-astro.github.io/mocpy/stubs/mocpy.MOC.html#mocpy.MOC.from_multiordermap_fits_file) method. This method digests only sky maps in the [multi-order format](https://emfollow.docs.ligo.org/userguide/tutorial/multiorder_skymaps.html) (in\n",
    "which different HEALPix orders are included). To convert a standard HEALPix\n",
    "format (where all the cells are at a single order) into a multi-order format, the command-line [ligo-skymap-unflatten](https://lscsoft.docs.ligo.org/ligo.skymap/tool/ligo_skymap_unflatten.html) can be applied."
   ]
  },
  {
   "cell_type": "code",
   "execution_count": null,
   "metadata": {},
   "outputs": [],
   "source": [
    "# Credible region (90%) with the two LIGO interferometers (L1+H1).\n",
    "!ligo-skymap-contour-moc  'bayestar_no_virgo.fits.gz' -c 90  --output 'credible_region_2ifos'\n",
    "\n",
    "# Credible region (90%) with the two LIGO + Virgo (L1+H1+V1).\n",
    "!ligo-skymap-contour-moc  'bayestar.fits.gz' -c 90  --output 'credible_region_3ifos'\n",
    "\n",
    "# Credible region (90%) - final sky localization published in the (GWTC-1).\n",
    "!ligo-skymap-contour-moc  'GW170817_skymap.fits.gz' -c 90  --output 'credible_region_final'\n",
    "\n",
    "# Credible region (90%) Fermi/GBM localization of GRB 170817A\n",
    "!ligo-skymap-contour-moc  'gbuts_healpix_systematic.fit' -c 90  --output 'fermi_gbm'"
   ]
  },
  {
   "attachments": {},
   "cell_type": "markdown",
   "metadata": {
    "scrolled": true
   },
   "source": [
    "### 1.2.1 IPN triangulation\n",
    "\n",
    "TITLE:   GCN CIRCULAR\n",
    "\n",
    "NUMBER:  21515\n",
    "\n",
    "SUBJECT: LIGO/Virgo G298048: IPN triangulation of Fermi/GBM trigger 524666471/170817529\n",
    "\n",
    "DATE:    17/08/17 18:35:12 GMT\n",
    "\n",
    "FROM:    Dmitry Svinkin at Ioffe Institute  <svinkin@mail.ioffe.ru>\n",
    "\n",
    "D. Svinkin, K. Hurley, on behalf of the IPN,\n",
    "\n",
    "A. von Kienlin, X. Zhang, A. Rau, V. Savchenko, E. Bozzo,\n",
    "and C. Ferrigno, on behalf of the INTEGRAL SPI-ACS GRB team,\n",
    "\n",
    "V. Connaughton, M. S. Briggs, C. Meegan, V. Pelassa,\n",
    "and A. Goldstein, on behalf of the Fermi GBM team, report:\n",
    "\n",
    "A short-duration burst (Connaughton, LVC GCN Circ. 21506)\n",
    "has been detected by Fermi (GBM; trigger 524666471),\n",
    "and INTEGRAL (SPI-ACS), so far, at about 45666 s UT (12:41:06).\n",
    "\n",
    "We have triangulated it to a GBM-INTEGRAL annulus centered at \n",
    "**RA(2000)=119.131deg** (07h 56m 31s)  **Dec(2000)=-44.133deg** (-44d 07' \n",
    "57\"), whose radius is 73.554 +/- 19.687 deg (3 sigma). The annulus is \n",
    "consistent with the Fermi-GBM ground position \n",
    "(glg_loclist_all_bn170817529_v01.txt).\n",
    "\n",
    "This annulus may be improved.\n",
    "\n",
    "A triangulation map is posted at\n",
    "http://www.ioffe.ru/LEA/GRBs/GRB170817_T45666/IPN/"
   ]
  },
  {
   "cell_type": "code",
   "execution_count": null,
   "metadata": {},
   "outputs": [],
   "source": [
    "# Creating the MOC annulus provided by IPN.\n",
    "ipn = MOC.from_ring(lon=Longitude(119.131 * u.deg),lat=Latitude(-44.133 * u.deg),\n",
    "                         internal_radius=Angle(53.867, u.deg),\n",
    "                         external_radius=Angle(93.241, u.deg),\n",
    "                         max_depth=10)\n",
    "\n",
    "# Save in fits format.\n",
    "ipn.write(\"ipn_triangulation\", overwrite=True)"
   ]
  },
  {
   "attachments": {},
   "cell_type": "markdown",
   "metadata": {},
   "source": [
    "## 2. Plotting using Matplotlib"
   ]
  },
  {
   "cell_type": "code",
   "execution_count": null,
   "metadata": {},
   "outputs": [],
   "source": [
    "fig = plt.figure(111, figsize=(10, 10))\n",
    "\n",
    "with WCS(fig, fov=170 * u.deg,\n",
    "                     center=SkyCoord(170.0, -40.0, \n",
    "                                     unit='deg', frame='icrs'),\n",
    "                     coordsys=\"icrs\",\n",
    "                     rotation=Angle(0, u.degree),\n",
    "                     projection='SIN') as wcs:\n",
    "    ax = fig.add_subplot(1, 1, 1, projection=wcs)\n",
    "    \n",
    "    # Loading MOC IPN annulus\n",
    "    ipn_triangulation = MOC.load(\"ipn_triangulation\")\n",
    "    \n",
    "    # Plot IPN annulus\n",
    "    ipn_triangulation.fill(ax=ax, wcs=wcs, alpha=0.7,linewidth=0, fill=True, \n",
    "                           color='lightblue', \n",
    "                           label='The IPN triangulation')\n",
    "    ipn_triangulation.border(ax=ax, wcs=wcs, alpha=0.7, color=\"lightblue\")\n",
    "\n",
    "    # Load Fermi/GBM error box of GRB 170817\n",
    "    fermi_gbm = MOC.load(\"fermi_gbm\")\n",
    "    \n",
    "    # Plot Fermi/GBM error box of GRB 170817\n",
    "    fermi_gbm.fill(ax=ax, wcs=wcs, alpha=0.9,linewidth=0, fill=True, \n",
    "                   color=\"#74bbfb\", \n",
    "                   label='Fermi/GBM localization')\n",
    "    fermi_gbm.border(ax=ax, wcs=wcs, alpha=0.9, color=\"#74bbfb\")\n",
    "        \n",
    "    # Loading L1+H1 MOC credible region\n",
    "    credible_region_2ifos = MOC.load(\"credible_region_2ifos\")\n",
    "    \n",
    "    # Plot L1+H1 credible region\n",
    "    credible_region_2ifos.fill(ax=ax, wcs=wcs, alpha=0.5,linewidth=0, fill=True, \n",
    "                               color='green', \n",
    "                               label='90% credible region with H1+L1')\n",
    "    credible_region_2ifos.border(ax=ax, wcs=wcs, alpha=0.5, color=\"green\")\n",
    "    \n",
    "    # Loading L1+H1+V1 MOC credible region\n",
    "    credible_region_3ifos = MOC.load(\"credible_region_3ifos\")\n",
    "    \n",
    "    # Plot L1+H1+V1 credible region\n",
    "    credible_region_3ifos.fill(ax=ax, wcs=wcs, alpha=0.7,linewidth=0, fill=True, \n",
    "                               color=\"red\", \n",
    "                               label='90% credible region with H1+L1+V1')\n",
    "    credible_region_3ifos.border(ax=ax, wcs=wcs, alpha=0.8, color=\"red\")\n",
    "             \n",
    "    # Loading MOC credible region (90%) (GWTC-1).\n",
    "    credible_region_final = MOC.load(\"credible_region_final\")\n",
    "    \n",
    "    # Plot credible region (90%) - published in the (GWTC-1).\n",
    "    credible_region_final.fill(ax=ax, wcs=wcs, alpha=0.7,linewidth=0, \n",
    "                               fill=True, color=\"orange\", \n",
    "                               label='90% credible region - GWTC-1')\n",
    "    credible_region_final.border(ax=ax, wcs=wcs, alpha=0.7, color=\"orange\")\n",
    "    \n",
    "#    print('The intersection sky area is {:.2f} sq. deg.'.format(intersection_area))\n",
    "    \n",
    "    ax.legend()\n",
    "    plt.title('Localisation of the gravitational-wave and gamma-ray signals')\n",
    "    \n",
    "    plt.grid(color=\"black\", linestyle=\"dotted\")\n",
    "    plt.show()"
   ]
  },
  {
   "attachments": {},
   "cell_type": "markdown",
   "metadata": {},
   "source": [
    "## 3. Areas and disjoint regions"
   ]
  },
  {
   "cell_type": "code",
   "execution_count": null,
   "metadata": {},
   "outputs": [],
   "source": [
    "area_2ifo = round(credible_region_2ifos.sky_fraction*41253,2)\n",
    "print(\"The Area (90%) with L1 and H1: \" + str(area_2ifo) +'°^2' )\n",
    "print(\"The number of the disjoint regions: \" + \n",
    "      str(credible_region_2ifos.split_count()))\n",
    "print()\n",
    "\n",
    "area_3ifo = round(credible_region_3ifos.sky_fraction*41253,2)\n",
    "print(\"The Area (90%) with L1, H1 and V1: \" + str(area_3ifo) +'°^2' )\n",
    "print(\"The number of the disjoint regions: \" + \n",
    "      str(credible_region_3ifos.split_count()))\n",
    "print()\n",
    "\n",
    "area_final = round(credible_region_final.sky_fraction*41253,2)\n",
    "print(\"The Area (90%) in the final analysis: \" + str(area_final) +'°^2' )\n",
    "print(\"The number of the disjoint regions: \" + \n",
    "      str(credible_region_final.split_count()))"
   ]
  },
  {
   "cell_type": "code",
   "execution_count": null,
   "metadata": {},
   "outputs": [],
   "source": [
    "credible_region_2ifos.split_count()"
   ]
  },
  {
   "attachments": {},
   "cell_type": "markdown",
   "metadata": {},
   "source": [
    "## 4. Interactive visualization using ipyladin widgets"
   ]
  },
  {
   "cell_type": "code",
   "execution_count": null,
   "metadata": {
    "scrolled": true
   },
   "outputs": [],
   "source": [
    "from ipyaladin import Aladin\n",
    "import ipyaladin as ipyal\n",
    "\n",
    "aladin = ipyal.Aladin(target='NGC 4993', fov=180, survey ='P/DSS2/color')\n",
    "aladin"
   ]
  },
  {
   "attachments": {},
   "cell_type": "markdown",
   "metadata": {},
   "source": [
    "Scroll up and visualize the credible region contours in the interactive Aladin widgets. From the `Manage Layers` <img src=\"https://github.com/ggreco77/Tutotest/blob/main/images/ipyaladin_layer.png?raw=true\" alt=\"the Layer Button\" style=\"width:30px; display: inline-block;\"/> the credible regions can be independently selected. \n",
    "\n",
    "If you hover the mouse pointer over a credible region plan a message will be displayed above it to show the **coverage in sky percentage**."
   ]
  },
  {
   "cell_type": "code",
   "execution_count": null,
   "metadata": {},
   "outputs": [],
   "source": [
    "# Show the two credible regions in the Aladin widget with 2 different colors.\n",
    "colors = [ \"lightblue\", \"#74bbfb\", \"green\", \"red\", \"orange\"]\n",
    "\n",
    "credible_regions = [\"ipn_triangulation\", \"fermi_gbm\", \"credible_region_2ifos\",\n",
    "                   \"credible_region_3ifos\", \"credible_region_final\"]\n",
    "\n",
    "for credible_region, color in zip(credible_regions, colors):\n",
    "    aladin.add_moc_from_URL(credible_region, {'color': color, 'opacity': 0.7,\n",
    "                            'adaptativeDisplay': False, 'name':credible_region})"
   ]
  },
  {
   "attachments": {},
   "cell_type": "markdown",
   "metadata": {},
   "source": [
    "## 4.1 Gravitational-wave sky localization and GRB error box"
   ]
  },
  {
   "cell_type": "code",
   "execution_count": null,
   "metadata": {},
   "outputs": [],
   "source": [
    "from ipywidgets import Layout, Box, widgets\n",
    "\n",
    "# Initialize the boxes\n",
    "left_box = Aladin(layout=Layout(width='50%'), target='NGC 4993', fov=180,survey='P/DSS2/color')\n",
    "right_box = Aladin(layout=Layout(width='50%'))\n",
    "\n",
    "# Synchronize target between 3 widgets\n",
    "widgets.jslink((left_box, 'target'), (right_box, 'target'))\n",
    "# Synchronize FoV (zoom level) between 2 widgets\n",
    "widgets.jslink((left_box, 'fov'), (right_box, 'fov'))\n",
    "\n",
    "items = [left_box,right_box]\n",
    "\n",
    "box_layout = Layout(display='flex',\n",
    "                    flex_flow='row',\n",
    "                    align_items='stretch',\n",
    "                    border='solid',\n",
    "                    width='100%')\n",
    "box = Box(children=items, layout=box_layout)\n",
    "box"
   ]
  },
  {
   "cell_type": "code",
   "execution_count": null,
   "metadata": {},
   "outputs": [],
   "source": [
    "left_box.add_moc_from_URL('fermi_gbm' ,{'color': '#74bbfb' , 'opacity': 0.7,\n",
    "                            'adaptativeDisplay': False, 'name': 'Fermi/GBM error box of GRB 170817' })\n",
    "\n",
    "right_box.add_moc_from_URL('credible_region_final', {'color': 'orange', 'opacity': 0.7, \n",
    "                                      'adaptativeDisplay': False, 'name': 'Sky localization of GW170817' })"
   ]
  },
  {
   "attachments": {},
   "cell_type": "markdown",
   "metadata": {},
   "source": [
    "## 5. Spatial and Temporal intersection\n",
    "**Two astrophysics events are considered coincident if they are within a particular time window of each other**.\n",
    "\n",
    "\n",
    "Following the [LIGO-Virgo Pubic Alert User Guide](https://emfollow.docs.ligo.org/userguide/index.html) in the section [Coincident with External Trigger Search](https://emfollow.docs.ligo.org/userguide/analysis/searches.html#coincident-with-external-trigger-search), we use the time window from -1 s to 5 s around the GW time. It means that we take into account GRBs up to one\n",
    "second before or up to 5 seconds after the GW time. Following this prescription, the temporal interval to define the Space and Time MOC ranges from **2017-08-17T12:41:03 UTC to 2017-08-17T12:41:09 UTC**.\n",
    "\n",
    "In the case of the GRB 170817, we added the trigger time reported in [An Ordinary Short Gamma-Ray Burst with\n",
    "Extraordinary Implications: Fermi-GBM Detection of GRB 170817A](https://iopscience.iop.org/article/10.3847/2041-8213/aa8f41). The event was observed on 2017 August 17 at\n",
    "12:41:06 UTC triggered by the Fermi gamma-ray Burst Monitor (GBM). T90 is 2.0   0.5 s, starting at T0 − 0.192 s. With these values, we set an approximate time window from **2017-08-17T12:41:05.80 UTC to 2017-08-17T12:41:07.80 UTC**."
   ]
  },
  {
   "cell_type": "code",
   "execution_count": null,
   "metadata": {},
   "outputs": [],
   "source": [
    "# Create a Space and Time MOC from the gravitational-wave sky localization\n",
    "stmoc_gw170817 = STMOC.from_spatial_coverages(Time(['2017-08-17T12:41:03'], \n",
    "                                                   format=\"isot\",  scale=\"utc\"), \n",
    "                                              Time(['2017-08-17T12:41:09'], \n",
    "                                                   format=\"isot\",  scale=\"utc\"),\n",
    "                                              [credible_region_final],time_depth=61)\n",
    "\n",
    "# Create a Space and Time MOC from the GRB error boxes from Fermi/GBM\n",
    "stmoc_grb170817 = STMOC.from_spatial_coverages(Time(['2017-08-17T12:41:05.80'], \n",
    "                                                    format=\"isot\",  scale=\"utc\"), \n",
    "                                               Time(['2017-08-17T12:41:07.80'], \n",
    "                                                    format=\"isot\",  scale=\"utc\"),\n",
    "                                               [fermi_gbm], time_depth=61)\n",
    "\n",
    "# Compute their space and time intersection and check that it is not empty\n",
    "space_time_intersection_gw_grb = stmoc_grb170817.intersection(stmoc_gw170817)\n",
    "\n",
    "if space_time_intersection_gw_grb.is_empty() != True:\n",
    "\n",
    "    print(\"The time intersection between GW and GRB events ranges from:\", \n",
    "          space_time_intersection_gw_grb.min_time.utc.iso +\n",
    "          ' to ' + space_time_intersection_gw_grb.max_time.utc.iso)\n",
    "    print()\n",
    "    # Compute their space intersection \n",
    "    space_intersection_gw_grb = fermi_gbm.intersection(credible_region_final)\n",
    "    area_int = round(space_intersection_gw_grb.sky_fraction*41253,2)\n",
    "    \n",
    "    print(\"The area intersection is: \" + str(area_int) +'°^2' )\n",
    "    print(\"The number of the disjoint regions: \" + \n",
    "      str(space_intersection_gw_grb.split_count()))\n",
    "    \n",
    "    # Save in a FITS file\n",
    "    space_intersection_gw_grb.write(\"space_intersection_gw_grb\", format='fits',\n",
    "                                  overwrite=True)\n",
    "    \n",
    "else:\n",
    "    print(\"The two astrophysical events are not coincident\")"
   ]
  },
  {
   "attachments": {},
   "cell_type": "markdown",
   "metadata": {},
   "source": [
    "## 6. Query Vizier catalogs\n",
    "Here we query the galaxies collected in the [GLADE](https://ui.adsabs.harvard.edu/abs/2016yCat.7275....0D/abstract) catalog inside the intersection area between the GW170817 and GRB 170817. Then, we filter those galaxies according to the marginal distance posterior distribution integrated over the whole sky. The value reported in the header of GW170817 published in GWTC-1 [GW170814_skymap.fits.gz](https://dcc.ligo.org/public/0157/P1800381/007/GW170817_skymap.fits.gz)."
   ]
  },
  {
   "cell_type": "code",
   "execution_count": null,
   "metadata": {},
   "outputs": [],
   "source": [
    "url_GW170814_skymap = \"https://dcc.ligo.org/public/0157/P1800381/007/GW170817_skymap.fits.gz\"\n",
    "prob, header = hp.read_map(url_GW170814_skymap, h=True)\n",
    "\n",
    "header = dict(header)\n",
    "print(header)\n",
    "print()\n",
    "\n",
    "print('Posterior mean distance (Mpc):', + header['DISTMEAN'])\n",
    "print('Posterior standard deviation of distance (Mpc):', + header['DISTSTD'])"
   ]
  },
  {
   "cell_type": "code",
   "execution_count": null,
   "metadata": {},
   "outputs": [],
   "source": [
    "table = space_intersection_gw_grb.query_vizier_table('VII/281/glade2')\n",
    "table"
   ]
  },
  {
   "cell_type": "code",
   "execution_count": null,
   "metadata": {},
   "outputs": [],
   "source": [
    "# This is an expression for a 1-sigma cut on distance.\n",
    "mask1 = table['Dist'] < header['DISTMEAN']+header['DISTSTD']\n",
    "t1 = table[mask1]\n",
    "mask2 = t1['Dist'] > header['DISTMEAN']-header['DISTSTD']\n",
    "table_filtered = t1[mask2]\n",
    "table_filtered"
   ]
  },
  {
   "cell_type": "code",
   "execution_count": null,
   "metadata": {
    "scrolled": false
   },
   "outputs": [],
   "source": [
    "from ipyaladin import Aladin\n",
    "import ipyaladin as ipyal\n",
    "\n",
    "aladin = ipyal.Aladin(target='NGC 4993', fov=180, survey ='P/DSS2/color')\n",
    "aladin"
   ]
  },
  {
   "cell_type": "code",
   "execution_count": null,
   "metadata": {},
   "outputs": [],
   "source": [
    "aladin.add_table(table_filtered)\n",
    "aladin.add_moc_from_URL('space_intersection_gw_grb' ,{'color': 'gold' , 'opacity': 0.2,\n",
    "                            'adaptativeDisplay': False, \n",
    "                                        'name': 'Intersection area between GW170817 and GRB 170817'})"
   ]
  },
  {
   "attachments": {},
   "cell_type": "markdown",
   "metadata": {},
   "source": [
    "**NOTE.** Mocpy does not yet implement a galaxy catalog query by the three-dimensional posterior probability\n",
    "distribution. However, it is currently possible in Aladin to search for galaxies within the 2D credible region on the sky and, afterwards, apply a distance cut that is independent of sky position. Dedicated functionalities\n",
    "are provided in the Python library [ligo.skymap](https://lscsoft.docs.ligo.org/ligo.skymap/#)."
   ]
  },
  {
   "cell_type": "code",
   "execution_count": null,
   "metadata": {
    "scrolled": true
   },
   "outputs": [],
   "source": [
    "aladin = Aladin(\n",
    "    survey=\"http://alasky.cds.unistra.fr/DECaPS/DR1/color/\",\n",
    "    show_coo_grid=True,\n",
    "    target=\"galactic center\",\n",
    "    coo_frame=\"galactic\",\n",
    "    fov=40,\n",
    "    height=600\n",
    ")\n",
    "aladin"
   ]
  }
 ],
 "metadata": {
  "kernelspec": {
   "display_name": "Python 3",
   "language": "python",
   "name": "python3"
  },
  "language_info": {
   "codemirror_mode": {
    "name": "ipython",
    "version": 3
   },
   "file_extension": ".py",
   "mimetype": "text/x-python",
   "name": "python",
   "nbconvert_exporter": "python",
   "pygments_lexer": "ipython3",
   "version": "3.8.5"
  }
 },
 "nbformat": 4,
 "nbformat_minor": 4
}
